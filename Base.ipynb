{
  "nbformat": 4,
  "nbformat_minor": 0,
  "metadata": {
    "colab": {
      "name": "Base.ipynb",
      "provenance": [],
      "authorship_tag": "ABX9TyM0ISLfjNnXiPHobQRrGmAD",
      "include_colab_link": true
    },
    "kernelspec": {
      "name": "python3",
      "display_name": "Python 3"
    }
  },
  "cells": [
    {
      "cell_type": "markdown",
      "metadata": {
        "id": "view-in-github",
        "colab_type": "text"
      },
      "source": [
        "<a href=\"https://colab.research.google.com/github/AnthonyNama/Python-programming/blob/master/Base.ipynb\" target=\"_parent\"><img src=\"https://colab.research.google.com/assets/colab-badge.svg\" alt=\"Open In Colab\"/></a>"
      ]
    },
    {
      "cell_type": "markdown",
      "metadata": {
        "id": "OL5tqwNBlFe6",
        "colab_type": "text"
      },
      "source": [
        "**W3schools Tutorial**"
      ]
    },
    {
      "cell_type": "code",
      "metadata": {
        "id": "HhJVYlcflA0d",
        "colab_type": "code",
        "colab": {}
      },
      "source": [
        "# Python base"
      ],
      "execution_count": 0,
      "outputs": []
    }
  ]
}